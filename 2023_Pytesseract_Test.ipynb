{
 "cells": [
  {
   "cell_type": "code",
   "execution_count": null,
   "id": "5f403619",
   "metadata": {},
   "outputs": [],
   "source": [
    "# source tfod/bin/activate"
   ]
  },
  {
   "cell_type": "code",
   "execution_count": null,
   "id": "b9d35076",
   "metadata": {},
   "outputs": [],
   "source": [
    "import os\n",
    "import sys\n",
    "import cv2\n",
    "from matplotlib import pyplot as plt\n",
    "import numpy as np\n",
    "import pytesseract"
   ]
  },
  {
   "cell_type": "code",
   "execution_count": null,
   "id": "e165b098",
   "metadata": {},
   "outputs": [],
   "source": [
    "import os.path\n",
    "dirname_path = os.getcwd()"
   ]
  },
  {
   "cell_type": "code",
   "execution_count": null,
   "id": "9046cfe2",
   "metadata": {},
   "outputs": [],
   "source": [
    "#create folder if not existif not os.path.exists(directory):\n",
    "if not os.path.exists('Crop'):\n",
    "    os.makedirs('Crop')"
   ]
  },
  {
   "cell_type": "code",
   "execution_count": null,
   "id": "d96dd7a9",
   "metadata": {},
   "outputs": [],
   "source": [
    "os.listdir()"
   ]
  },
  {
   "cell_type": "code",
   "execution_count": null,
   "id": "00a4ac42",
   "metadata": {},
   "outputs": [],
   "source": [
    "CROP_PATH = os.path.join(dirname_path,'Crop')"
   ]
  },
  {
   "cell_type": "code",
   "execution_count": null,
   "id": "b3575950",
   "metadata": {},
   "outputs": [],
   "source": [
    "#1 Read, Grayscale Image"
   ]
  },
  {
   "cell_type": "code",
   "execution_count": null,
   "id": "fbfd9fe5",
   "metadata": {},
   "outputs": [],
   "source": [
    "cd Crop"
   ]
  },
  {
   "cell_type": "code",
   "execution_count": null,
   "id": "a40b141d",
   "metadata": {},
   "outputs": [],
   "source": [
    "os.listdir()"
   ]
  },
  {
   "cell_type": "code",
   "execution_count": null,
   "id": "181e79b9",
   "metadata": {},
   "outputs": [],
   "source": [
    "#Plate_name = input(\"enter filename: \")\n",
    "#print(Plate_name)\n",
    "#Crop_name = os.path.join(CROP_PATH,Plate_name+'.JPG')"
   ]
  },
  {
   "cell_type": "code",
   "execution_count": null,
   "id": "b2ce6b39",
   "metadata": {},
   "outputs": [],
   "source": [
    "plt_img = cv2.imread('Plate1.JPG')\n",
    "plt.imshow(plt_img, cmap = 'gray', interpolation = 'bicubic')\n",
    "plt.xticks([]), plt.yticks([])  # to hide tick values on X and Y axis\n",
    "plt.show()"
   ]
  },
  {
   "cell_type": "code",
   "execution_count": null,
   "id": "7bf80fae",
   "metadata": {},
   "outputs": [],
   "source": [
    "plt_gray = cv2.cvtColor(plt_img, cv2.COLOR_BGR2GRAY)\n",
    "plt.imshow(cv2.cvtColor(plt_gray, cv2.COLOR_BGR2RGB))"
   ]
  },
  {
   "cell_type": "code",
   "execution_count": null,
   "id": "53353459",
   "metadata": {},
   "outputs": [],
   "source": [
    "#2. Filtering and finding Edges for localization"
   ]
  },
  {
   "cell_type": "code",
   "execution_count": null,
   "id": "99dd7fe9",
   "metadata": {},
   "outputs": [],
   "source": [
    "ret, plt_thresh = cv2.threshold(plt_gray, 0, 255, cv2.THRESH_BINARY + \n",
    "                                            cv2.THRESH_OTSU)\n",
    "plt.imshow(plt_thresh, cmap = 'gray', interpolation = 'bicubic')\n",
    "plt.xticks([]), plt.yticks([])  # to hide tick values on X and Y axis\n",
    "plt.show()"
   ]
  },
  {
   "cell_type": "code",
   "execution_count": null,
   "id": "5a7b92a9",
   "metadata": {},
   "outputs": [],
   "source": [
    "\"\"\"\n",
    "    d: Diameter of each pixel neighborhood.\n",
    "    sigmaColor: Value of \\sigma in the color space. The greater the value, the colors farther to each other will start to get mixed.\n",
    "    sigmaSpace: Value of \\sigma in the coordinate space. The greater its value, the more further pixels will mix together, given that their colors lie within the sigmaColor range.\n",
    "\"\"\"\n",
    "bilateral = cv2.bilateralFilter(plt_thresh, 10, 75, 75)\n",
    "plt.imshow(bilateral, cmap = 'gray', interpolation = 'bicubic')\n",
    "plt.xticks([]), plt.yticks([])  # to hide tick values on X and Y axis\n",
    "plt.show()"
   ]
  },
  {
   "cell_type": "code",
   "execution_count": null,
   "id": "f4bef1db",
   "metadata": {},
   "outputs": [],
   "source": [
    "# Gaussian Blur\n",
    "Gaussian = cv2.GaussianBlur(bilateral, (3, 3), 0)\n",
    "plt.imshow(Gaussian, cmap = 'gray', interpolation = 'bicubic')\n",
    "plt.xticks([]), plt.yticks([])  # to hide tick values on X and Y axis\n",
    "plt.show()"
   ]
  },
  {
   "cell_type": "code",
   "execution_count": null,
   "id": "1f1654ce",
   "metadata": {},
   "outputs": [],
   "source": [
    "import numpy as np\n",
    "\n",
    "mean = np.mean(plt_thresh)\n",
    "if mean <= 128:\n",
    "    print(\"Background is black.\")\n",
    "else:\n",
    "    print(\"Background is white.\")"
   ]
  },
  {
   "cell_type": "code",
   "execution_count": null,
   "id": "c2ae5475",
   "metadata": {},
   "outputs": [],
   "source": [
    "if mean < 100:\n",
    "    plt_imagem = cv2.bitwise_not(bilateral)\n",
    "else:\n",
    "    pass\n",
    "plt.imshow(plt_imagem, cmap = 'gray', interpolation = 'bicubic')\n",
    "plt.xticks([]), plt.yticks([])  # to hide tick values on X and Y axis\n",
    "plt.show()"
   ]
  },
  {
   "cell_type": "code",
   "execution_count": null,
   "id": "65f7cec6",
   "metadata": {},
   "outputs": [],
   "source": [
    "# Get number of pixel horizontally and vertically.\n",
    "(height, width) = plt_imagem.shape[:2]\n",
    "#plt_imagem2 = cv2.resize(plt_imagem, (800, 200))\n",
    "plt_imagem2 = cv2.resize(plt_imagem, (int(width * 4), int(height * 4)), interpolation = cv2.INTER_CUBIC)\n",
    "plt.imshow(plt_imagem2, cmap = 'gray', interpolation = 'bicubic')\n",
    "plt.xticks([]), plt.yticks([])  # to hide tick values on X and Y axis\n",
    "plt.show()"
   ]
  },
  {
   "cell_type": "code",
   "execution_count": null,
   "id": "01becee8",
   "metadata": {},
   "outputs": [],
   "source": [
    "kernel = np.array([[0, -1, 0],\n",
    "                   [-1, 5,-1],\n",
    "                   [0, -1, 0]])\n",
    "image_sharp = cv2.filter2D(src=plt_imagem2, ddepth=-1, kernel=kernel)\n",
    "plt.imshow(image_sharp, cmap = 'gray', interpolation = 'bicubic')\n",
    "plt.xticks([]), plt.yticks([])  # to hide tick values on X and Y axis\n",
    "plt.show()"
   ]
  },
  {
   "cell_type": "code",
   "execution_count": null,
   "id": "d207fc5c",
   "metadata": {},
   "outputs": [],
   "source": [
    "kernel = np.ones((3, 3), np.uint8)\n",
    "opening = cv2.morphologyEx(image_sharp, cv2.MORPH_OPEN, kernel)\n",
    "plt.imshow(opening, cmap = 'gray', interpolation = 'bicubic')\n",
    "plt.xticks([]), plt.yticks([])  # to hide tick values on X and Y axis\n",
    "plt.show()"
   ]
  },
  {
   "cell_type": "code",
   "execution_count": null,
   "id": "df16a023",
   "metadata": {},
   "outputs": [],
   "source": [
    "#print(pytesseract.image_to_string(plt_imagem2))\n",
    "custom_oem_psm_config = r'--oem 3 --psm 13 -c tessedit_char_whitelist=0123456789ABCDEFGHIJKLMNOPQRSTUVWXYZ'\n",
    "text = pytesseract.image_to_string(plt_imagem2, config=custom_oem_psm_config)\n",
    "print(text)"
   ]
  },
  {
   "cell_type": "code",
   "execution_count": null,
   "id": "b99bca83",
   "metadata": {},
   "outputs": [],
   "source": []
  }
 ],
 "metadata": {
  "kernelspec": {
   "display_name": "anprsys",
   "language": "python",
   "name": "anprsys"
  },
  "language_info": {
   "codemirror_mode": {
    "name": "ipython",
    "version": 3
   },
   "file_extension": ".py",
   "mimetype": "text/x-python",
   "name": "python",
   "nbconvert_exporter": "python",
   "pygments_lexer": "ipython3",
   "version": "3.9.12"
  }
 },
 "nbformat": 4,
 "nbformat_minor": 5
}
