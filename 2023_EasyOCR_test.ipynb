{
 "cells": [
  {
   "cell_type": "code",
   "execution_count": null,
   "id": "5f403619",
   "metadata": {},
   "outputs": [],
   "source": [
    "# source tfod/bin/activate"
   ]
  },
  {
   "cell_type": "code",
   "execution_count": null,
   "id": "d6a90d0c",
   "metadata": {},
   "outputs": [],
   "source": [
    "#conda info "
   ]
  },
  {
   "cell_type": "code",
   "execution_count": null,
   "id": "45095022",
   "metadata": {
    "scrolled": true
   },
   "outputs": [],
   "source": [
    "#!pip install easyocr\n",
    "#!pip install imutils"
   ]
  },
  {
   "cell_type": "code",
   "execution_count": null,
   "id": "75ec7db5",
   "metadata": {},
   "outputs": [],
   "source": [
    "#!pip install validators"
   ]
  },
  {
   "cell_type": "code",
   "execution_count": null,
   "id": "00044da9",
   "metadata": {},
   "outputs": [],
   "source": [
    "#!pip install matplotlib==3.6.0"
   ]
  },
  {
   "cell_type": "code",
   "execution_count": null,
   "id": "ae2b02d4",
   "metadata": {},
   "outputs": [],
   "source": [
    "import os"
   ]
  },
  {
   "cell_type": "code",
   "execution_count": null,
   "id": "8f0e0903",
   "metadata": {},
   "outputs": [],
   "source": [
    "os.getcwd()"
   ]
  },
  {
   "cell_type": "code",
   "execution_count": null,
   "id": "4824e0ad",
   "metadata": {},
   "outputs": [],
   "source": [
    "import matplotlib"
   ]
  },
  {
   "cell_type": "code",
   "execution_count": null,
   "id": "b9d35076",
   "metadata": {},
   "outputs": [],
   "source": [
    "import os\n",
    "import sys\n",
    "import cv2\n",
    "from matplotlib import pyplot as plt\n",
    "import numpy as np\n",
    "import imutils\n",
    "import easyocr"
   ]
  },
  {
   "cell_type": "code",
   "execution_count": null,
   "id": "7a09ac07",
   "metadata": {},
   "outputs": [],
   "source": [
    "print(matplotlib.__version__)"
   ]
  },
  {
   "cell_type": "code",
   "execution_count": null,
   "id": "e165b098",
   "metadata": {},
   "outputs": [],
   "source": [
    "import os.path\n",
    "dirname_path = os.getcwd()\n"
   ]
  },
  {
   "cell_type": "code",
   "execution_count": null,
   "id": "00a4ac42",
   "metadata": {},
   "outputs": [],
   "source": [
    "IMAGE_PATH = os.path.join(dirname_path,'images')"
   ]
  },
  {
   "cell_type": "code",
   "execution_count": null,
   "id": "bdce81c4",
   "metadata": {},
   "outputs": [],
   "source": [
    "print(IMAGE_PATH)"
   ]
  },
  {
   "cell_type": "code",
   "execution_count": null,
   "id": "843ef4d7",
   "metadata": {},
   "outputs": [],
   "source": [
    "os.listdir()"
   ]
  },
  {
   "cell_type": "markdown",
   "id": "72aa94fa",
   "metadata": {},
   "source": [
    "# 1 Read, Grayscale Image"
   ]
  },
  {
   "cell_type": "code",
   "execution_count": null,
   "id": "ecd3ce4b",
   "metadata": {},
   "outputs": [],
   "source": [
    "cd images"
   ]
  },
  {
   "cell_type": "code",
   "execution_count": null,
   "id": "cc6b2876",
   "metadata": {},
   "outputs": [],
   "source": [
    "os.listdir()"
   ]
  },
  {
   "cell_type": "code",
   "execution_count": null,
   "id": "92e47571",
   "metadata": {},
   "outputs": [],
   "source": [
    "#img = cv2.imread(os.path.join(IMAGE_PATH,'car4.jpg'))\n",
    "img = cv2.imread('DSC01139.JPG')"
   ]
  },
  {
   "cell_type": "code",
   "execution_count": null,
   "id": "b2ce6b39",
   "metadata": {},
   "outputs": [],
   "source": [
    "print (img)"
   ]
  },
  {
   "cell_type": "code",
   "execution_count": null,
   "id": "7bf80fae",
   "metadata": {},
   "outputs": [],
   "source": [
    "gray = cv2.cvtColor(img, cv2.COLOR_BGR2GRAY)\n",
    "plt.imshow(cv2.cvtColor(gray, cv2.COLOR_BGR2RGB))"
   ]
  },
  {
   "cell_type": "code",
   "execution_count": null,
   "id": "53353459",
   "metadata": {},
   "outputs": [],
   "source": [
    "#2. Filtering and finding Edges for localization"
   ]
  },
  {
   "cell_type": "code",
   "execution_count": null,
   "id": "4b75c48f",
   "metadata": {},
   "outputs": [],
   "source": [
    "bfilter = cv2.bilateralFilter(gray, 11, 17, 17) #Noise reduction - d, sigma color, sigmaspace\n",
    "plt.imshow(cv2.cvtColor(bfilter, cv2.COLOR_BGR2RGB))"
   ]
  },
  {
   "cell_type": "code",
   "execution_count": null,
   "id": "36d4b725",
   "metadata": {},
   "outputs": [],
   "source": [
    "blurred = cv2.GaussianBlur(bfilter, (3, 3), 0)\n",
    "plt.imshow(cv2.cvtColor(blurred, cv2.COLOR_BGR2RGB))"
   ]
  },
  {
   "cell_type": "code",
   "execution_count": null,
   "id": "96c14131",
   "metadata": {},
   "outputs": [],
   "source": [
    "u_lower = 30  # Lower Threshold\n",
    "t_upper = 200  # Upper threshold\n",
    "aperture_size = 5  # Aperture size\n",
    "L2Gradient = True # Boolean"
   ]
  },
  {
   "cell_type": "code",
   "execution_count": null,
   "id": "6099d504",
   "metadata": {},
   "outputs": [],
   "source": [
    "edged = cv2.Canny(blurred, u_lower, t_upper, L2gradient = L2Gradient )  #Edge Detection\n",
    "plt.imshow(cv2.cvtColor(edged, cv2.COLOR_BGR2RGB))"
   ]
  },
  {
   "cell_type": "code",
   "execution_count": null,
   "id": "ff40a0cf",
   "metadata": {},
   "outputs": [],
   "source": [
    "#3. find plate contours - ie.rectangle area\n",
    "# Contours is a Python list of all the contours in the image. \n",
    "# Each individual contour is a Numpy array of (x,y) coordinates of boundary points of the object."
   ]
  },
  {
   "cell_type": "code",
   "execution_count": null,
   "id": "ae2bd110",
   "metadata": {},
   "outputs": [],
   "source": [
    "keypoints = cv2.findContours(edged.copy(), cv2.RETR_TREE, cv2.CHAIN_APPROX_SIMPLE)\n",
    "contours = imutils.grab_contours(keypoints)\n",
    "contours = sorted(contours, key=cv2.contourArea, reverse=True)[:10]"
   ]
  },
  {
   "cell_type": "code",
   "execution_count": null,
   "id": "7794a085",
   "metadata": {},
   "outputs": [],
   "source": [
    "contours"
   ]
  },
  {
   "cell_type": "code",
   "execution_count": null,
   "id": "ee1cdab6",
   "metadata": {},
   "outputs": [],
   "source": [
    "location = None\n",
    "for contour in contours:\n",
    "    approx = cv2.approxPolyDP(contour, 10, True)\n",
    "    if len(approx) == 4:\n",
    "        location = approx\n",
    "        break"
   ]
  },
  {
   "cell_type": "code",
   "execution_count": null,
   "id": "63b7dfd1",
   "metadata": {},
   "outputs": [],
   "source": [
    "location"
   ]
  },
  {
   "cell_type": "code",
   "execution_count": null,
   "id": "df96f689",
   "metadata": {},
   "outputs": [],
   "source": [
    "# cv2.bitwise Arithmetic Operations on Images "
   ]
  },
  {
   "cell_type": "code",
   "execution_count": null,
   "id": "5a7b92a9",
   "metadata": {},
   "outputs": [],
   "source": [
    "mask = np.zeros(gray.shape, np.uint8)\n",
    "new_image = cv2.drawContours(mask, [location], 0,255, -1)\n",
    "new_image = cv2.bitwise_and(img, img, mask=mask)"
   ]
  },
  {
   "cell_type": "code",
   "execution_count": null,
   "id": "f4bef1db",
   "metadata": {},
   "outputs": [],
   "source": [
    "plt.imshow(cv2.cvtColor(new_image, cv2.COLOR_BGR2RGB))"
   ]
  },
  {
   "cell_type": "code",
   "execution_count": null,
   "id": "c2ae5475",
   "metadata": {},
   "outputs": [],
   "source": [
    "(x,y) = np.where(mask==255)\n",
    "(x1, y1) = (np.min(x), np.min(y))\n",
    "(x2, y2) = (np.max(x), np.max(y))\n",
    "cropped_image = gray[x1:x2+1, y1:y2+1]"
   ]
  },
  {
   "cell_type": "code",
   "execution_count": null,
   "id": "65f7cec6",
   "metadata": {},
   "outputs": [],
   "source": [
    "plt.imshow(cv2.cvtColor(cropped_image, cv2.COLOR_BGR2RGB))"
   ]
  },
  {
   "cell_type": "code",
   "execution_count": null,
   "id": "01becee8",
   "metadata": {},
   "outputs": [],
   "source": [
    "#4. Applying EasyOCR to Read Text"
   ]
  },
  {
   "cell_type": "code",
   "execution_count": null,
   "id": "44a198ca",
   "metadata": {},
   "outputs": [],
   "source": [
    "reader = easyocr.Reader(['en'])\n",
    "result = reader.readtext(cropped_image)\n",
    "result"
   ]
  }
 ],
 "metadata": {
  "kernelspec": {
   "display_name": "anprsys",
   "language": "python",
   "name": "anprsys"
  },
  "language_info": {
   "codemirror_mode": {
    "name": "ipython",
    "version": 3
   },
   "file_extension": ".py",
   "mimetype": "text/x-python",
   "name": "python",
   "nbconvert_exporter": "python",
   "pygments_lexer": "ipython3",
   "version": "3.9.12"
  }
 },
 "nbformat": 4,
 "nbformat_minor": 5
}
